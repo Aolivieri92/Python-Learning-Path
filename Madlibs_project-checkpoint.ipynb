{
 "cells": [
  {
   "cell_type": "code",
   "execution_count": 4,
   "id": "34a2eb08",
   "metadata": {},
   "outputs": [
    {
     "name": "stdout",
     "output_type": "stream",
     "text": [
      "subscribe to Kylie Ying\n",
      "subscribe to Kylie Ying\n",
      "subscribe to Kylie Ying\n"
     ]
    }
   ],
   "source": [
    "# string concatentation \n",
    "# we want to create something that says 'subcribe to_______'\n",
    "youtuber = 'Kylie Ying' #some string variable \n",
    "\n",
    "# A few ways to do this \n",
    "#print(\"subscribe to \" + youtuber )\n",
    "#print(\"subscribe to {}\".format(youtuber))\n",
    "#print(f\"subscribe to {youtuber}\")"
   ]
  },
  {
   "cell_type": "code",
   "execution_count": 6,
   "id": "dbcf00e1",
   "metadata": {},
   "outputs": [
    {
     "name": "stdout",
     "output_type": "stream",
     "text": [
      "Adjective: exciting\n",
      "Verb: program\n",
      "Verb: working\n",
      "famousperson: Michael Chiklis\n",
      "Computer programming is so exciting!It makes me so excited all the time because I love to program. Stay hydrated and working   like you are Michael Chiklis!\n"
     ]
    }
   ],
   "source": [
    "adj = input(\"Adjective: \")\n",
    "verb1= input(\"Verb: \")\n",
    "verb2= input(\"Verb: \")\n",
    "famous_person= input(\"famousperson: \")\n",
    "\n",
    "\n",
    "madlib = f\"Computer programming is so {adj}!It makes me so excited all the time because \\\n",
    "I love to {verb1}. Stay hydrated and {verb2}   like you are {famous_person}!\"\n",
    "\n",
    "print(madlib)\n"
   ]
  },
  {
   "cell_type": "code",
   "execution_count": null,
   "id": "550926b9",
   "metadata": {},
   "outputs": [],
   "source": []
  }
 ],
 "metadata": {
  "kernelspec": {
   "display_name": "Python 3 (ipykernel)",
   "language": "python",
   "name": "python3"
  },
  "language_info": {
   "codemirror_mode": {
    "name": "ipython",
    "version": 3
   },
   "file_extension": ".py",
   "mimetype": "text/x-python",
   "name": "python",
   "nbconvert_exporter": "python",
   "pygments_lexer": "ipython3",
   "version": "3.9.13"
  }
 },
 "nbformat": 4,
 "nbformat_minor": 5
}
