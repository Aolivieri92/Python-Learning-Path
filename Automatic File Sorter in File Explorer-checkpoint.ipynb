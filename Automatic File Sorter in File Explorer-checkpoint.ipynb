{
 "cells": [
  {
   "cell_type": "markdown",
   "id": "cbf621e1",
   "metadata": {},
   "source": [
    "# Making a Automatic File Sorter in File Explorer\n"
   ]
  },
  {
   "cell_type": "code",
   "execution_count": 16,
   "id": "164ea117",
   "metadata": {},
   "outputs": [],
   "source": [
    "import os, shutil"
   ]
  },
  {
   "cell_type": "code",
   "execution_count": 17,
   "id": "8ab325e8",
   "metadata": {},
   "outputs": [],
   "source": [
    "path = r\"C:/Users/alexo/OneDrive/\" "
   ]
  },
  {
   "cell_type": "code",
   "execution_count": 21,
   "id": "03049af3",
   "metadata": {},
   "outputs": [],
   "source": [
    "file_name = os.listdir(path)"
   ]
  },
  {
   "cell_type": "code",
   "execution_count": 22,
   "id": "35bca93b",
   "metadata": {},
   "outputs": [],
   "source": [
    "folder_names = ['csv files','image files','text files']\n",
    "\n",
    "for loop in range(0,3):\n",
    "    if not  os.path.exists(path + folder_names[loop]):\n",
    "            print(path + folder_names[loop])\n",
    "            os.makedirs(path + folder_names[loop])\n",
    "            \n",
    "for file in file_name: \n",
    "        if \".csv\" in file and not os.path.exists(path + \"csv files/\" + file):\n",
    "            shutil.move(path + file,path + \"csv files/\" + file )\n",
    "        elif \".png\" in file and not os.path.exists(path + \"image files/\" + file):\n",
    "            shutil.move(path + file,path + \"image files/\" + file )\n",
    "        elif \".txt\" in file and not os.path.exists(path + \"text files/\" + file):\n",
    "            shutil.move(path + file,path + \"text files/\" + file )\n",
    "        \n",
    "        else: \n",
    "            print(\"There are files in this path that were not moved!\")\n",
    "\n"
   ]
  },
  {
   "cell_type": "code",
   "execution_count": null,
   "id": "d37e3913",
   "metadata": {},
   "outputs": [],
   "source": []
  }
 ],
 "metadata": {
  "kernelspec": {
   "display_name": "Python 3 (ipykernel)",
   "language": "python",
   "name": "python3"
  },
  "language_info": {
   "codemirror_mode": {
    "name": "ipython",
    "version": 3
   },
   "file_extension": ".py",
   "mimetype": "text/x-python",
   "name": "python",
   "nbconvert_exporter": "python",
   "pygments_lexer": "ipython3",
   "version": "3.9.13"
  }
 },
 "nbformat": 4,
 "nbformat_minor": 5
}
