{
 "cells": [
  {
   "cell_type": "markdown",
   "id": "dfce1a02",
   "metadata": {},
   "source": [
    "# BMI Caluculator \n",
    "https://mercer-health.com/services/weight-management-center/bmi-calculator"
   ]
  },
  {
   "cell_type": "code",
   "execution_count": 5,
   "id": "2fcfc724",
   "metadata": {
    "scrolled": true
   },
   "outputs": [
    {
     "name": "stdout",
     "output_type": "stream",
     "text": [
      "What is your name?Alexander Olivieri\n",
      "Enter your weight using pounds: 158\n",
      "Enter your height using inches: 69\n",
      "10.18840579710145\n",
      "Alexander Olivieri,you are normal weight.\n"
     ]
    }
   ],
   "source": [
    "name= input(\"What is your name?\")\n",
    "\n",
    "weight = int(input(\"Enter your weight using pounds: \"))\n",
    "\n",
    "height = int(input( \"Enter your height using inches: \"))\n",
    "\n",
    "BMI = (weight * 703)/(height * weight) \n",
    "\n",
    "print(BMI)\n",
    "\n",
    "if BMI>0:\n",
    "    if(BMI>18.5):\n",
    "        print(name +\",you are underweight.\")\n",
    "    elif (BMI<=24.9):\n",
    "        print(name +\",you are normal weight.\")\n",
    "    elif (BMI<29.9):\n",
    "        print(name +\",you are overweight.\")\n",
    "    elif (BMI<34.9):\n",
    "        print(name +\",you are obese.\")\n",
    "    elif(BMI<39.9):\n",
    "        print(name +\",your are severely morbidly obese.\")\n",
    "else:\n",
    "    print(\"Enter Valid Inputs\")\n",
    "            "
   ]
  },
  {
   "cell_type": "code",
   "execution_count": null,
   "id": "77acc9b8",
   "metadata": {},
   "outputs": [],
   "source": [
    "BMI\tClassification\tHealth Risk\n",
    "Under 18.5\tUnderweight\tMinimal\n",
    "18.5 - 24.9\tNormal Weight\tMinimal\n",
    "25 - 29.9\tOverweight\tIncreased\n",
    "30 - 34.9\tObese\tHigh\n",
    "35 - 39.9\tSeverely Obese\tVery High\n",
    "40 and over\tMorbidly Obese\tExtremely High"
   ]
  },
  {
   "cell_type": "code",
   "execution_count": 12,
   "id": "2014d983",
   "metadata": {},
   "outputs": [
    {
     "name": "stdout",
     "output_type": "stream",
     "text": [
      "Enter Valid Inputs\n"
     ]
    }
   ],
   "source": [
    "if BMI>0:\n",
    "    if(BMI<18.5):\n",
    "        print(name +\",you are underweight.\")\n",
    "    elif (BMI<=24.9):\n",
    "        print(name +\",you are normal weight.\")\n",
    "    elif (BMI<29.9):\n",
    "        print(name +\",you are overweight.\")\n",
    "    elif (BMI<34.9):\n",
    "        print(name +\",you are obese.\")\n",
    "    elif(BMI<39.9):\n",
    "        print(name +\",your are severely morbidly obese.\")\n",
    "else:\n",
    "    print(\"Enter Valid Inputs\")\n",
    "            \n"
   ]
  },
  {
   "cell_type": "code",
   "execution_count": null,
   "id": "2dadc23e",
   "metadata": {},
   "outputs": [],
   "source": []
  },
  {
   "cell_type": "code",
   "execution_count": null,
   "id": "b1ab908a",
   "metadata": {},
   "outputs": [],
   "source": []
  },
  {
   "cell_type": "code",
   "execution_count": null,
   "id": "f55d39cb",
   "metadata": {},
   "outputs": [],
   "source": []
  },
  {
   "cell_type": "code",
   "execution_count": null,
   "id": "b1361223",
   "metadata": {},
   "outputs": [],
   "source": []
  }
 ],
 "metadata": {
  "kernelspec": {
   "display_name": "Python 3 (ipykernel)",
   "language": "python",
   "name": "python3"
  },
  "language_info": {
   "codemirror_mode": {
    "name": "ipython",
    "version": 3
   },
   "file_extension": ".py",
   "mimetype": "text/x-python",
   "name": "python",
   "nbconvert_exporter": "python",
   "pygments_lexer": "ipython3",
   "version": "3.9.13"
  }
 },
 "nbformat": 4,
 "nbformat_minor": 5
}
