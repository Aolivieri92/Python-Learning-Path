{
 "cells": [
  {
   "cell_type": "markdown",
   "id": "e942259f",
   "metadata": {},
   "source": [
    "# Choose Your Own Adventure"
   ]
  },
  {
   "cell_type": "code",
   "execution_count": 13,
   "id": "62c0f020",
   "metadata": {
    "scrolled": true
   },
   "outputs": [
    {
     "name": "stdout",
     "output_type": "stream",
     "text": [
      "Type your namel\n",
      "Welcome l to your own adventure!\n",
      "You are on a dirt road, it has come to an end and you can either go left or right. Which way do you go? right\n",
      "You come to a bridge, it looks wobbly. Do you cross it or go back?(cross/back)cross\n",
      "You cross the bridge and meet a stranger.Do you talk to them? Yes or no.no\n",
      "The stranger is offended and you lose the game.\n"
     ]
    }
   ],
   "source": [
    "name = input(\"Type your name\")\n",
    "print(\"Welcome \"+ name +\" to your own adventure!\")\n",
    "\n",
    "answer = input(\"You are on a dirt road, it has come to an end and you can either go left or right. Which way do you go? \").lower()\n",
    "\n",
    "if answer == \"left\":\n",
    "    answer = input(\"You come to a river. You can walk around it or swim across. Do you swim or walk?\")\n",
    "    \n",
    "    if answer == \"swim\":\n",
    "        print(\"You swam across and were eaten by an alligator.\")\n",
    "    \n",
    "    elif answer == \"walk\":\n",
    "        print(\"You walked for many miles and ran out of water.\")\n",
    "    else:\n",
    "        print(\"not a valid option, you lose.\")\n",
    "        \n",
    "elif answer == \"right\":\n",
    "    answer = input(\"You come to a bridge, it looks wobbly. Do you cross it or go back?(cross/back)\")\n",
    "    \n",
    "    if answer == \"cross\":\n",
    "        answer = input(\"You cross the bridge and meet a stranger.Do you talk to them? Yes or no.\")\n",
    "        \n",
    "        if answer == \"yes\":\n",
    "            print(\"The stranger gives you gold and you win the game!\")\n",
    "        \n",
    "        elif answer== \"no\":\n",
    "            print(\"The stranger is offended and you lose the game.\")\n",
    "    \n",
    "    elif answer == \"back\":\n",
    "        print(\"You walked for many miles and ran out of water and lose the game.\")\n",
    "else: \n",
    "    print(\"you lose! \")\n",
    "    \n"
   ]
  },
  {
   "cell_type": "code",
   "execution_count": null,
   "id": "918397b9",
   "metadata": {},
   "outputs": [],
   "source": []
  },
  {
   "cell_type": "code",
   "execution_count": null,
   "id": "862d7168",
   "metadata": {},
   "outputs": [],
   "source": []
  }
 ],
 "metadata": {
  "kernelspec": {
   "display_name": "Python 3 (ipykernel)",
   "language": "python",
   "name": "python3"
  },
  "language_info": {
   "codemirror_mode": {
    "name": "ipython",
    "version": 3
   },
   "file_extension": ".py",
   "mimetype": "text/x-python",
   "name": "python",
   "nbconvert_exporter": "python",
   "pygments_lexer": "ipython3",
   "version": "3.9.13"
  }
 },
 "nbformat": 4,
 "nbformat_minor": 5
}
